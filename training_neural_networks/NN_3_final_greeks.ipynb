{
 "cells": [
  {
   "cell_type": "markdown",
   "id": "c13a85da",
   "metadata": {},
   "source": [
    "# DATA"
   ]
  },
  {
   "cell_type": "code",
   "execution_count": 1,
   "id": "f65327bd",
   "metadata": {},
   "outputs": [],
   "source": [
    "import numpy as np\n",
    "import pandas as pd\n",
    "import sklearn\n",
    "import os\n",
    "import pickle\n",
    "import math\n",
    "import tensorflow as tf\n",
    "import matplotlib.pyplot as plt\n",
    "import seaborn as sns\n",
    "from sklearn.model_selection import train_test_split, RandomizedSearchCV, GridSearchCV, ParameterGrid\n",
    "from sklearn.preprocessing import StandardScaler\n",
    "from datetime import datetime\n",
    "from scipy.stats import norm\n",
    "\n",
    "\n",
    "os.environ['TF_CPP_MIN_LOG_LEVEL'] = '1'  \n",
    "tf.random.set_seed(1234)"
   ]
  },
  {
   "cell_type": "code",
   "execution_count": 2,
   "id": "4ffc1564",
   "metadata": {},
   "outputs": [
    {
     "data": {
      "text/html": [
       "<div>\n",
       "<style scoped>\n",
       "    .dataframe tbody tr th:only-of-type {\n",
       "        vertical-align: middle;\n",
       "    }\n",
       "\n",
       "    .dataframe tbody tr th {\n",
       "        vertical-align: top;\n",
       "    }\n",
       "\n",
       "    .dataframe thead th {\n",
       "        text-align: right;\n",
       "    }\n",
       "</style>\n",
       "<table border=\"1\" class=\"dataframe\">\n",
       "  <thead>\n",
       "    <tr style=\"text-align: right;\">\n",
       "      <th></th>\n",
       "      <th>r</th>\n",
       "      <th>sigma</th>\n",
       "      <th>T</th>\n",
       "      <th>s0</th>\n",
       "      <th>k</th>\n",
       "      <th>t</th>\n",
       "      <th>asset</th>\n",
       "      <th>call</th>\n",
       "      <th>asset_greater_call</th>\n",
       "      <th>scaled_call</th>\n",
       "      <th>scaled_asset</th>\n",
       "      <th>tau</th>\n",
       "      <th>moneyness</th>\n",
       "      <th>d1</th>\n",
       "      <th>d2</th>\n",
       "      <th>delta</th>\n",
       "      <th>gamma</th>\n",
       "      <th>theta</th>\n",
       "      <th>vega</th>\n",
       "      <th>rho</th>\n",
       "    </tr>\n",
       "  </thead>\n",
       "  <tbody>\n",
       "    <tr>\n",
       "      <th>0</th>\n",
       "      <td>0.05</td>\n",
       "      <td>0.05</td>\n",
       "      <td>0.1</td>\n",
       "      <td>10.0</td>\n",
       "      <td>10.0</td>\n",
       "      <td>0.0</td>\n",
       "      <td>10.000000</td>\n",
       "      <td>0.090978</td>\n",
       "      <td>True</td>\n",
       "      <td>0.009098</td>\n",
       "      <td>1.0</td>\n",
       "      <td>0.10</td>\n",
       "      <td>1.000000</td>\n",
       "      <td>0.324133</td>\n",
       "      <td>0.308322</td>\n",
       "      <td>0.627082</td>\n",
       "      <td>2.394010</td>\n",
       "      <td>-0.608243</td>\n",
       "      <td>1.197005</td>\n",
       "      <td>0.617984</td>\n",
       "    </tr>\n",
       "    <tr>\n",
       "      <th>1</th>\n",
       "      <td>0.05</td>\n",
       "      <td>0.05</td>\n",
       "      <td>0.1</td>\n",
       "      <td>10.0</td>\n",
       "      <td>10.0</td>\n",
       "      <td>1.0</td>\n",
       "      <td>9.977024</td>\n",
       "      <td>0.071240</td>\n",
       "      <td>True</td>\n",
       "      <td>0.007124</td>\n",
       "      <td>1.0</td>\n",
       "      <td>0.09</td>\n",
       "      <td>0.997702</td>\n",
       "      <td>0.154153</td>\n",
       "      <td>0.139153</td>\n",
       "      <td>0.561255</td>\n",
       "      <td>2.634254</td>\n",
       "      <td>-0.604191</td>\n",
       "      <td>1.179973</td>\n",
       "      <td>0.497558</td>\n",
       "    </tr>\n",
       "    <tr>\n",
       "      <th>2</th>\n",
       "      <td>0.05</td>\n",
       "      <td>0.05</td>\n",
       "      <td>0.1</td>\n",
       "      <td>10.0</td>\n",
       "      <td>10.0</td>\n",
       "      <td>2.0</td>\n",
       "      <td>9.979236</td>\n",
       "      <td>0.066344</td>\n",
       "      <td>True</td>\n",
       "      <td>0.006634</td>\n",
       "      <td>1.0</td>\n",
       "      <td>0.08</td>\n",
       "      <td>0.997924</td>\n",
       "      <td>0.142939</td>\n",
       "      <td>0.128797</td>\n",
       "      <td>0.556831</td>\n",
       "      <td>2.798086</td>\n",
       "      <td>-0.622830</td>\n",
       "      <td>1.114591</td>\n",
       "      <td>0.439232</td>\n",
       "    </tr>\n",
       "    <tr>\n",
       "      <th>3</th>\n",
       "      <td>0.05</td>\n",
       "      <td>0.05</td>\n",
       "      <td>0.1</td>\n",
       "      <td>10.0</td>\n",
       "      <td>10.0</td>\n",
       "      <td>3.0</td>\n",
       "      <td>10.085137</td>\n",
       "      <td>0.133263</td>\n",
       "      <td>True</td>\n",
       "      <td>0.013326</td>\n",
       "      <td>1.0</td>\n",
       "      <td>0.07</td>\n",
       "      <td>1.008514</td>\n",
       "      <td>0.912040</td>\n",
       "      <td>0.898811</td>\n",
       "      <td>0.819126</td>\n",
       "      <td>1.972797</td>\n",
       "      <td>-0.657203</td>\n",
       "      <td>0.702286</td>\n",
       "      <td>0.568942</td>\n",
       "    </tr>\n",
       "    <tr>\n",
       "      <th>4</th>\n",
       "      <td>0.05</td>\n",
       "      <td>0.05</td>\n",
       "      <td>0.1</td>\n",
       "      <td>10.0</td>\n",
       "      <td>10.0</td>\n",
       "      <td>4.0</td>\n",
       "      <td>9.964273</td>\n",
       "      <td>0.045868</td>\n",
       "      <td>True</td>\n",
       "      <td>0.004587</td>\n",
       "      <td>1.0</td>\n",
       "      <td>0.06</td>\n",
       "      <td>0.996427</td>\n",
       "      <td>-0.041160</td>\n",
       "      <td>-0.053407</td>\n",
       "      <td>0.483584</td>\n",
       "      <td>3.266261</td>\n",
       "      <td>-0.644005</td>\n",
       "      <td>0.972889</td>\n",
       "      <td>0.286362</td>\n",
       "    </tr>\n",
       "  </tbody>\n",
       "</table>\n",
       "</div>"
      ],
      "text/plain": [
       "      r  sigma    T    s0     k    t      asset      call  asset_greater_call  \\\n",
       "0  0.05   0.05  0.1  10.0  10.0  0.0  10.000000  0.090978                True   \n",
       "1  0.05   0.05  0.1  10.0  10.0  1.0   9.977024  0.071240                True   \n",
       "2  0.05   0.05  0.1  10.0  10.0  2.0   9.979236  0.066344                True   \n",
       "3  0.05   0.05  0.1  10.0  10.0  3.0  10.085137  0.133263                True   \n",
       "4  0.05   0.05  0.1  10.0  10.0  4.0   9.964273  0.045868                True   \n",
       "\n",
       "   scaled_call  scaled_asset   tau  moneyness        d1        d2     delta  \\\n",
       "0     0.009098           1.0  0.10   1.000000  0.324133  0.308322  0.627082   \n",
       "1     0.007124           1.0  0.09   0.997702  0.154153  0.139153  0.561255   \n",
       "2     0.006634           1.0  0.08   0.997924  0.142939  0.128797  0.556831   \n",
       "3     0.013326           1.0  0.07   1.008514  0.912040  0.898811  0.819126   \n",
       "4     0.004587           1.0  0.06   0.996427 -0.041160 -0.053407  0.483584   \n",
       "\n",
       "      gamma     theta      vega       rho  \n",
       "0  2.394010 -0.608243  1.197005  0.617984  \n",
       "1  2.634254 -0.604191  1.179973  0.497558  \n",
       "2  2.798086 -0.622830  1.114591  0.439232  \n",
       "3  1.972797 -0.657203  0.702286  0.568942  \n",
       "4  3.266261 -0.644005  0.972889  0.286362  "
      ]
     },
     "execution_count": 2,
     "metadata": {},
     "output_type": "execute_result"
    }
   ],
   "source": [
    "data = pd.read_csv('data/final_data.csv')\n",
    "data.head()"
   ]
  },
  {
   "cell_type": "code",
   "execution_count": 3,
   "id": "99211cd9",
   "metadata": {},
   "outputs": [],
   "source": [
    "scaler = StandardScaler()\n",
    "X = data[['r','sigma','tau','k','asset']]\n",
    "y = data['call']\n",
    "#X = scaler.fit_transform(X)\n",
    "X_train,X_test,y_train,y_test = train_test_split(X,y,test_size=0.2,random_state=1234)"
   ]
  },
  {
   "cell_type": "markdown",
   "id": "4c6807e2",
   "metadata": {},
   "source": [
    "# NEURAL NET MODEL"
   ]
  },
  {
   "cell_type": "code",
   "execution_count": 4,
   "id": "0c5ecf3f",
   "metadata": {},
   "outputs": [],
   "source": [
    "from keras.models import Sequential, Model\n",
    "from tensorflow.keras.utils import plot_model\n",
    "from tensorflow.keras.optimizers import Adam\n",
    "from keras.layers import Embedding, LSTM, Dense, BatchNormalization, Input, Flatten, Dropout\n",
    "from keras.callbacks import ModelCheckpoint, EarlyStopping\n",
    "from keras.wrappers.scikit_learn import KerasRegressor\n",
    "from tensorflow.keras.optimizers.schedules import ExponentialDecay\n",
    "from tensorflow_addons.optimizers import CyclicalLearningRate\n",
    "from tensorflow.keras.initializers import RandomUniform, GlorotUniform, HeUniform\n",
    "from keras.models import model_from_json\n",
    "from keras import backend as K\n",
    "import tensorflow_addons as tfa\n",
    "from tensorflow import GradientTape"
   ]
  },
  {
   "cell_type": "code",
   "execution_count": 5,
   "id": "cecc8dff",
   "metadata": {},
   "outputs": [],
   "source": [
    "def create_model(activation, lr_0, batch_norm, dropout_rate, layer_number, neuron_number,\\\n",
    "                neuron_decrease, data_length, initializer):\n",
    "    opt = Adam(learning_rate = lr_0)\n",
    "    model = Sequential()\n",
    "    model.add(Dense(neuron_number, input_shape=(5,), activation = activation, \\\n",
    "                    kernel_initializer=initializer , bias_initializer=initializer))\n",
    "    for i in range(layer_number):\n",
    "        if batch_norm == True:\n",
    "            model.add(BatchNormalization())         \n",
    "        neuron_number = int(neuron_number/neuron_decrease)\n",
    "        model.add(Dense(neuron_number, activation = activation))\n",
    "    if batch_norm == True:\n",
    "        model.add(BatchNormalization()) \n",
    "    model.add(Dropout(dropout_rate))\n",
    "    model.add(Dense(1, name='Final_1D_output', activation = activation))\n",
    "    model.compile(optimizer=opt,loss='mean_squared_error',\\\n",
    "                  metrics=[tfa.metrics.RSquare(dtype=tf.float32, y_shape=(1,))],\\\n",
    "                 run_eagerly=True)\n",
    "    print(model.summary())\n",
    "    return model\n",
    "\n",
    "def callback_list(patience):\n",
    "    early_stop = EarlyStopping(monitor='val_loss', patience=patience, restore_best_weights=True)\n",
    "    return early_stop\n",
    "\n",
    "def plot_loss(loss,val_loss):    \n",
    "    plt.figure()\n",
    "    plt.plot(loss)\n",
    "    plt.plot(val_loss)\n",
    "    plt.title('Model loss')\n",
    "    plt.ylabel('Loss')\n",
    "    plt.xlabel('Epoch')\n",
    "   # plt.ylim((0,0.1))\n",
    "    plt.legend(['Train', 'Test'], loc='upper right')\n",
    "    plt.show()\n",
    "\n",
    "def plot_metr(metr,val_metr,name):\n",
    "    plt.figure()\n",
    "    plt.plot(metr)\n",
    "    plt.plot(val_metr)\n",
    "    plt.title('Model'+str(name))\n",
    "    plt.ylabel(str(name))\n",
    "    plt.xlabel('Epoch')\n",
    "  #  plt.ylim((0,1))\n",
    "    plt.legend(['Train', 'Test'], loc='upper right')\n",
    "    plt.show() "
   ]
  },
  {
   "cell_type": "code",
   "execution_count": 6,
   "id": "036addd4",
   "metadata": {},
   "outputs": [],
   "source": [
    "patience_f = 10\n",
    "callbacks = callback_list(patience=patience_f)"
   ]
  },
  {
   "cell_type": "markdown",
   "id": "4cfd3fca",
   "metadata": {},
   "source": [
    "# TOTALLY TUNED MODEL"
   ]
  },
  {
   "cell_type": "markdown",
   "id": "d5fac66a",
   "metadata": {},
   "source": [
    "## Result from GridSearch"
   ]
  },
  {
   "cell_type": "code",
   "execution_count": 7,
   "id": "c6887afe",
   "metadata": {},
   "outputs": [
    {
     "name": "stdout",
     "output_type": "stream",
     "text": [
      "Metal device set to: Apple M1 Pro\n",
      "Loaded model from disk\n"
     ]
    }
   ],
   "source": [
    "# load json and create model\n",
    "json_file_hyper = open('results/grid_results_greeks/model_extra_greeks.json', 'r')\n",
    "model_hyper = json_file_hyper.read()\n",
    "json_file_hyper.close()\n",
    "final_model = model_from_json(model_hyper)\n",
    "# load weights into new model\n",
    "final_model.load_weights(\"results/grid_results_greeks/model_extra_greeks.h5\")\n",
    "print(\"Loaded model from disk\")"
   ]
  },
  {
   "cell_type": "code",
   "execution_count": 9,
   "id": "cf149674",
   "metadata": {},
   "outputs": [
    {
     "data": {
      "text/html": [
       "<div>\n",
       "<style scoped>\n",
       "    .dataframe tbody tr th:only-of-type {\n",
       "        vertical-align: middle;\n",
       "    }\n",
       "\n",
       "    .dataframe tbody tr th {\n",
       "        vertical-align: top;\n",
       "    }\n",
       "\n",
       "    .dataframe thead th {\n",
       "        text-align: right;\n",
       "    }\n",
       "</style>\n",
       "<table border=\"1\" class=\"dataframe\">\n",
       "  <thead>\n",
       "    <tr style=\"text-align: right;\">\n",
       "      <th></th>\n",
       "      <th>loss</th>\n",
       "      <th>r_square</th>\n",
       "      <th>val_loss</th>\n",
       "      <th>val_r_square</th>\n",
       "    </tr>\n",
       "  </thead>\n",
       "  <tbody>\n",
       "    <tr>\n",
       "      <th>0</th>\n",
       "      <td>2.483879</td>\n",
       "      <td>0.947328</td>\n",
       "      <td>5.077482</td>\n",
       "      <td>0.893907</td>\n",
       "    </tr>\n",
       "    <tr>\n",
       "      <th>1</th>\n",
       "      <td>0.433023</td>\n",
       "      <td>0.990818</td>\n",
       "      <td>0.403818</td>\n",
       "      <td>0.991562</td>\n",
       "    </tr>\n",
       "    <tr>\n",
       "      <th>2</th>\n",
       "      <td>0.248943</td>\n",
       "      <td>0.994721</td>\n",
       "      <td>0.131855</td>\n",
       "      <td>0.997245</td>\n",
       "    </tr>\n",
       "    <tr>\n",
       "      <th>3</th>\n",
       "      <td>0.213849</td>\n",
       "      <td>0.995465</td>\n",
       "      <td>0.102957</td>\n",
       "      <td>0.997849</td>\n",
       "    </tr>\n",
       "    <tr>\n",
       "      <th>4</th>\n",
       "      <td>0.167967</td>\n",
       "      <td>0.996438</td>\n",
       "      <td>0.075145</td>\n",
       "      <td>0.998430</td>\n",
       "    </tr>\n",
       "    <tr>\n",
       "      <th>5</th>\n",
       "      <td>0.165600</td>\n",
       "      <td>0.996488</td>\n",
       "      <td>1.179124</td>\n",
       "      <td>0.975362</td>\n",
       "    </tr>\n",
       "    <tr>\n",
       "      <th>6</th>\n",
       "      <td>0.138229</td>\n",
       "      <td>0.997069</td>\n",
       "      <td>0.071791</td>\n",
       "      <td>0.998500</td>\n",
       "    </tr>\n",
       "    <tr>\n",
       "      <th>7</th>\n",
       "      <td>0.133869</td>\n",
       "      <td>0.997161</td>\n",
       "      <td>0.082975</td>\n",
       "      <td>0.998266</td>\n",
       "    </tr>\n",
       "    <tr>\n",
       "      <th>8</th>\n",
       "      <td>0.114059</td>\n",
       "      <td>0.997581</td>\n",
       "      <td>0.115785</td>\n",
       "      <td>0.997581</td>\n",
       "    </tr>\n",
       "  </tbody>\n",
       "</table>\n",
       "</div>"
      ],
      "text/plain": [
       "       loss  r_square  val_loss  val_r_square\n",
       "0  2.483879  0.947328  5.077482      0.893907\n",
       "1  0.433023  0.990818  0.403818      0.991562\n",
       "2  0.248943  0.994721  0.131855      0.997245\n",
       "3  0.213849  0.995465  0.102957      0.997849\n",
       "4  0.167967  0.996438  0.075145      0.998430\n",
       "5  0.165600  0.996488  1.179124      0.975362\n",
       "6  0.138229  0.997069  0.071791      0.998500\n",
       "7  0.133869  0.997161  0.082975      0.998266\n",
       "8  0.114059  0.997581  0.115785      0.997581"
      ]
     },
     "execution_count": 9,
     "metadata": {},
     "output_type": "execute_result"
    }
   ],
   "source": [
    "final_hist = pd.read_csv('results/grid_results_greeks/train_hist_extra_greeks.csv')\n",
    "#train_hist = train_hist[:(train_hist.shape[0])-patience]\n",
    "final_hist"
   ]
  },
  {
   "cell_type": "code",
   "execution_count": 11,
   "id": "8a67486e",
   "metadata": {},
   "outputs": [
    {
     "name": "stdout",
     "output_type": "stream",
     "text": [
      "{'activation': 'relu', 'batch_norm': True, 'batch_size': 2048, 'data_length': 1000000, 'dropout_rate': 0.0, 'initializer': <keras.initializers.initializers_v2.RandomUniform object at 0x107001910>, 'layer_number': 3, 'lr_0': 0.001, 'neuron_decrease': 2, 'neuron_number': 512}\n"
     ]
    }
   ],
   "source": [
    "# HYPERPARAMETER TUNING\n",
    "a_file = open(\"results/grid_results_greeks/search_params_extra_greeks.pkl\", \"rb\")\n",
    "output = pickle.load(a_file)\n",
    "print(output)\n",
    "a_file.close()"
   ]
  },
  {
   "cell_type": "code",
   "execution_count": 12,
   "id": "6ea32c2d",
   "metadata": {},
   "outputs": [
    {
     "name": "stdout",
     "output_type": "stream",
     "text": [
      "Model: \"sequential\"\n",
      "_________________________________________________________________\n",
      " Layer (type)                Output Shape              Param #   \n",
      "=================================================================\n",
      " dense (Dense)               (None, 512)               3072      \n",
      "                                                                 \n",
      " batch_normalization (BatchN  (None, 512)              2048      \n",
      " ormalization)                                                   \n",
      "                                                                 \n",
      " dense_1 (Dense)             (None, 256)               131328    \n",
      "                                                                 \n",
      " batch_normalization_1 (Batc  (None, 256)              1024      \n",
      " hNormalization)                                                 \n",
      "                                                                 \n",
      " dense_2 (Dense)             (None, 128)               32896     \n",
      "                                                                 \n",
      " batch_normalization_2 (Batc  (None, 128)              512       \n",
      " hNormalization)                                                 \n",
      "                                                                 \n",
      " dense_3 (Dense)             (None, 64)                8256      \n",
      "                                                                 \n",
      " batch_normalization_3 (Batc  (None, 64)               256       \n",
      " hNormalization)                                                 \n",
      "                                                                 \n",
      " dropout (Dropout)           (None, 64)                0         \n",
      "                                                                 \n",
      " Final_1D_output (Dense)     (None, 1)                 65        \n",
      "                                                                 \n",
      "=================================================================\n",
      "Total params: 179,457\n",
      "Trainable params: 177,537\n",
      "Non-trainable params: 1,920\n",
      "_________________________________________________________________\n",
      "None\n"
     ]
    }
   ],
   "source": [
    "final_model_arch = create_model(activation = output['activation'], lr_0 = output['lr_0'], \\\n",
    "                                 batch_norm = output['batch_norm'], dropout_rate = output['dropout_rate'], \\\n",
    "                                 layer_number = output['layer_number'], neuron_number = output['neuron_number'], \\\n",
    "                                    data_length = output['data_length'], neuron_decrease = output['neuron_decrease'],\\\n",
    "                                 initializer = output['initializer'])"
   ]
  },
  {
   "cell_type": "code",
   "execution_count": 13,
   "id": "8e72d39a",
   "metadata": {},
   "outputs": [
    {
     "data": {
      "image/png": "[encoded data removed]",
      "text/plain": [
       "<Figure size 432x288 with 1 Axes>"
      ]
     },
     "metadata": {
      "needs_background": "light"
     },
     "output_type": "display_data"
    }
   ],
   "source": [
    "plot_loss(final_hist['loss'][1:], final_hist['val_loss'][1:])"
   ]
  },
  {
   "cell_type": "code",
   "execution_count": 14,
   "id": "b62c9ac6",
   "metadata": {},
   "outputs": [
    {
     "data": {
      "image/png": "[encoded data removed]",
      "text/plain": [
       "<Figure size 432x288 with 1 Axes>"
      ]
     },
     "metadata": {
      "needs_background": "light"
     },
     "output_type": "display_data"
    }
   ],
   "source": [
    "plot_metr(final_hist['r_square'][1:], \\\n",
    "          final_hist['val_r_square'][1:], 'R squared')"
   ]
  },
  {
   "cell_type": "markdown",
   "id": "32db8be2",
   "metadata": {},
   "source": [
    "## Last fit with 200 epochs"
   ]
  },
  {
   "cell_type": "code",
   "execution_count": 15,
   "id": "1575a702",
   "metadata": {},
   "outputs": [
    {
     "name": "stdout",
     "output_type": "stream",
     "text": [
      "Epoch 1/200\n"
     ]
    },
    {
     "name": "stderr",
     "output_type": "stream",
     "text": [
      "2022-05-08 11:55:04.444631: W tensorflow/core/platform/profile_utils/cpu_utils.cc:128] Failed to get CPU frequency: 0 Hz\n"
     ]
    },
    {
     "name": "stdout",
     "output_type": "stream",
     "text": [
      "313/313 [==============================] - 11s 32ms/step - loss: 2.9275 - r_square: 0.9379 - val_loss: 5.4875 - val_r_square: 0.8853\n",
      "Epoch 2/200\n",
      "313/313 [==============================] - 10s 32ms/step - loss: 0.4859 - r_square: 0.9897 - val_loss: 1.1680 - val_r_square: 0.9756\n",
      "Epoch 3/200\n",
      "313/313 [==============================] - 10s 31ms/step - loss: 0.2965 - r_square: 0.9937 - val_loss: 0.3092 - val_r_square: 0.9935\n",
      "Epoch 4/200\n",
      "313/313 [==============================] - 10s 31ms/step - loss: 0.2192 - r_square: 0.9954 - val_loss: 0.3871 - val_r_square: 0.9919\n",
      "Epoch 5/200\n",
      "313/313 [==============================] - 10s 32ms/step - loss: 0.1767 - r_square: 0.9963 - val_loss: 0.0434 - val_r_square: 0.9991\n",
      "Epoch 6/200\n",
      "313/313 [==============================] - 10s 32ms/step - loss: 0.1708 - r_square: 0.9964 - val_loss: 0.5762 - val_r_square: 0.9880\n",
      "Epoch 7/200\n",
      "313/313 [==============================] - 10s 32ms/step - loss: 0.1419 - r_square: 0.9970 - val_loss: 0.0499 - val_r_square: 0.9990\n",
      "Epoch 8/200\n",
      "313/313 [==============================] - 10s 32ms/step - loss: 0.1519 - r_square: 0.9968 - val_loss: 0.0560 - val_r_square: 0.9988\n",
      "Epoch 9/200\n",
      "313/313 [==============================] - 10s 32ms/step - loss: 0.1169 - r_square: 0.9975 - val_loss: 0.1017 - val_r_square: 0.9979\n",
      "Epoch 10/200\n",
      "313/313 [==============================] - 10s 33ms/step - loss: 0.1164 - r_square: 0.9975 - val_loss: 0.9920 - val_r_square: 0.9793\n",
      "Epoch 11/200\n",
      "313/313 [==============================] - 10s 33ms/step - loss: 0.1185 - r_square: 0.9975 - val_loss: 0.4014 - val_r_square: 0.9916\n",
      "Epoch 12/200\n",
      "313/313 [==============================] - 10s 33ms/step - loss: 0.1024 - r_square: 0.9978 - val_loss: 0.0349 - val_r_square: 0.9993\n",
      "Epoch 13/200\n",
      "313/313 [==============================] - 10s 32ms/step - loss: 0.1152 - r_square: 0.9976 - val_loss: 0.2567 - val_r_square: 0.9946\n",
      "Epoch 14/200\n",
      "313/313 [==============================] - 10s 33ms/step - loss: 0.1017 - r_square: 0.9978 - val_loss: 0.0187 - val_r_square: 0.9996\n",
      "Epoch 15/200\n",
      "313/313 [==============================] - 10s 32ms/step - loss: 0.0861 - r_square: 0.9982 - val_loss: 0.0400 - val_r_square: 0.9992\n",
      "Epoch 16/200\n",
      "313/313 [==============================] - 10s 32ms/step - loss: 0.0801 - r_square: 0.9983 - val_loss: 0.4940 - val_r_square: 0.9897\n",
      "Epoch 17/200\n",
      "313/313 [==============================] - 10s 32ms/step - loss: 0.0769 - r_square: 0.9984 - val_loss: 1.0202 - val_r_square: 0.9787\n",
      "Epoch 18/200\n",
      "313/313 [==============================] - 10s 32ms/step - loss: 0.0994 - r_square: 0.9979 - val_loss: 0.2231 - val_r_square: 0.9953\n",
      "Epoch 19/200\n",
      "313/313 [==============================] - 10s 33ms/step - loss: 0.1075 - r_square: 0.9977 - val_loss: 0.1177 - val_r_square: 0.9975\n",
      "Epoch 20/200\n",
      "313/313 [==============================] - 10s 33ms/step - loss: 0.0973 - r_square: 0.9979 - val_loss: 0.0407 - val_r_square: 0.9991\n",
      "Epoch 21/200\n",
      "313/313 [==============================] - 10s 32ms/step - loss: 0.0844 - r_square: 0.9982 - val_loss: 0.4721 - val_r_square: 0.9901\n",
      "Epoch 22/200\n",
      "313/313 [==============================] - 10s 33ms/step - loss: 0.0886 - r_square: 0.9981 - val_loss: 0.0091 - val_r_square: 0.9998\n",
      "Epoch 23/200\n",
      "313/313 [==============================] - 10s 33ms/step - loss: 0.0697 - r_square: 0.9985 - val_loss: 0.2604 - val_r_square: 0.9946\n",
      "Epoch 24/200\n",
      "313/313 [==============================] - 11s 34ms/step - loss: 0.0913 - r_square: 0.9981 - val_loss: 0.0457 - val_r_square: 0.9990\n",
      "Epoch 25/200\n",
      "313/313 [==============================] - 10s 32ms/step - loss: 0.0907 - r_square: 0.9981 - val_loss: 0.0343 - val_r_square: 0.9993\n",
      "Epoch 26/200\n",
      "313/313 [==============================] - 10s 32ms/step - loss: 0.0720 - r_square: 0.9985 - val_loss: 0.0428 - val_r_square: 0.9991\n",
      "Epoch 27/200\n",
      "313/313 [==============================] - 10s 32ms/step - loss: 0.0561 - r_square: 0.9988 - val_loss: 0.0425 - val_r_square: 0.9991\n",
      "Epoch 28/200\n",
      "313/313 [==============================] - 10s 33ms/step - loss: 0.0799 - r_square: 0.9983 - val_loss: 0.3397 - val_r_square: 0.9929\n",
      "Epoch 29/200\n",
      "313/313 [==============================] - 10s 33ms/step - loss: 0.0846 - r_square: 0.9982 - val_loss: 0.0613 - val_r_square: 0.9987\n",
      "Epoch 30/200\n",
      "313/313 [==============================] - 10s 32ms/step - loss: 0.0635 - r_square: 0.9987 - val_loss: 0.1092 - val_r_square: 0.9977\n",
      "Epoch 31/200\n",
      "313/313 [==============================] - 10s 32ms/step - loss: 0.0716 - r_square: 0.9985 - val_loss: 0.0741 - val_r_square: 0.9985\n",
      "Epoch 32/200\n",
      "313/313 [==============================] - 10s 33ms/step - loss: 0.0645 - r_square: 0.9986 - val_loss: 0.0503 - val_r_square: 0.9989\n"
     ]
    }
   ],
   "source": [
    "trained_200 = final_model_arch.fit(X_train,y_train,epochs=200,validation_split=0.2,callbacks=[callbacks],\n",
    "                           batch_size = output['batch_size'])"
   ]
  },
  {
   "cell_type": "code",
   "execution_count": 16,
   "id": "729932a7",
   "metadata": {},
   "outputs": [
    {
     "data": {
      "image/png": "[encoded data removed]",
      "text/plain": [
       "<Figure size 432x288 with 1 Axes>"
      ]
     },
     "metadata": {
      "needs_background": "light"
     },
     "output_type": "display_data"
    }
   ],
   "source": [
    "plot_loss(trained_200.history['loss'][1:], trained_200.history['val_loss'][1:])"
   ]
  },
  {
   "cell_type": "code",
   "execution_count": 17,
   "id": "614ef9ce",
   "metadata": {},
   "outputs": [
    {
     "data": {
      "image/png": "[encoded data removed]",
      "text/plain": [
       "<Figure size 432x288 with 1 Axes>"
      ]
     },
     "metadata": {
      "needs_background": "light"
     },
     "output_type": "display_data"
    }
   ],
   "source": [
    "plot_metr(trained_200.history['r_square'][1:], \\\n",
    "          trained_200.history['val_r_square'][1:], 'R Squared')"
   ]
  },
  {
   "cell_type": "code",
   "execution_count": 18,
   "id": "88422936",
   "metadata": {},
   "outputs": [
    {
     "name": "stdout",
     "output_type": "stream",
     "text": [
      "Saved model to disk\n"
     ]
    }
   ],
   "source": [
    "# serialize model to JSON\n",
    "model_json_good = final_model_arch.to_json()\n",
    "with open(\"results/200epochs_results_greeks/model_200_epochs_greeks.json\", \"w\") as json_file:\n",
    "    json_file.write(model_json_good)\n",
    "# serialize weights to HDF5\n",
    "final_model_arch.save_weights(\"results/200epochs_results_greeks/model_200_epochs_greeks.h5\")\n",
    "print(\"Saved model to disk\")"
   ]
  },
  {
   "cell_type": "code",
   "execution_count": 19,
   "id": "30daa0e8",
   "metadata": {},
   "outputs": [],
   "source": [
    "model_hist_good = final_model_arch.history\n",
    "train_hist_good = pd.DataFrame(model_hist_good.history)\n",
    "train_hist_good.to_csv('results/200epochs_results_greeks/train_hist_200_greeks.csv', index=False)"
   ]
  },
  {
   "cell_type": "code",
   "execution_count": null,
   "id": "9c46053b",
   "metadata": {},
   "outputs": [],
   "source": []
  }
 ],
 "metadata": {
  "kernelspec": {
   "display_name": "Python (tensor)",
   "language": "python",
   "name": "mykernel"
  },
  "language_info": {
   "codemirror_mode": {
    "name": "ipython",
    "version": 3
   },
   "file_extension": ".py",
   "mimetype": "text/x-python",
   "name": "python",
   "nbconvert_exporter": "python",
   "pygments_lexer": "ipython3",
   "version": "3.8.13"
  }
 },
 "nbformat": 4,
 "nbformat_minor": 5
}
